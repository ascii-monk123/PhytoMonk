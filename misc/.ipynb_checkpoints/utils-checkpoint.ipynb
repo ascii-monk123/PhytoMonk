{
 "cells": [
  {
   "cell_type": "code",
   "execution_count": 1,
   "id": "handled-gibson",
   "metadata": {},
   "outputs": [],
   "source": [
    "import numpy as np\n",
    "import cv2"
   ]
  },
  {
   "cell_type": "markdown",
   "id": "confident-graduation",
   "metadata": {},
   "source": [
    "<h2> Plot intensity histogram</h2>"
   ]
  },
  {
   "cell_type": "code",
   "execution_count": 2,
   "id": "classical-belle",
   "metadata": {},
   "outputs": [],
   "source": [
    "def plot_histogram(image, channel = None, bins = 256, r = (0, 256), title = \"\", xlab = \"\", ylab = \"\"):\n",
    "    '''\n",
    "    Plot an intensity histogram for a given image.\n",
    "    Arguments=>\n",
    "    image : any representation of the digital image\n",
    "    channel: channel to plot as histogram. None for grayscale image. Has to be specified for other representations.Specify as the index of the channel in the nd array representation.\n",
    "    bins: no of bins in the histogram\n",
    "    r: range of the histogram\n",
    "    '''\n",
    "    \n",
    "    if channel is not None:\n",
    "        image = image[:, :, channel]\n",
    "        \n",
    "    plt.figure(figsize = (12, 19))\n",
    "    plt.title(title, fontsize = 20)\n",
    "    plt.xlabel(xlab, fontsize = 20)\n",
    "    plt.ylabel(ylab, fontsize = 20)\n",
    "    histo,bins,_= plt.hist(image.flat, bins = bins, range= r, ec='black')\n",
    "    plt.show()"
   ]
  },
  {
   "cell_type": "code",
   "execution_count": null,
   "id": "pleasant-purpose",
   "metadata": {},
   "outputs": [],
   "source": []
  }
 ],
 "metadata": {
  "kernelspec": {
   "display_name": "Python 3",
   "language": "python",
   "name": "python3"
  },
  "language_info": {
   "codemirror_mode": {
    "name": "ipython",
    "version": 3
   },
   "file_extension": ".py",
   "mimetype": "text/x-python",
   "name": "python",
   "nbconvert_exporter": "python",
   "pygments_lexer": "ipython3",
   "version": "3.8.10"
  }
 },
 "nbformat": 4,
 "nbformat_minor": 5
}
