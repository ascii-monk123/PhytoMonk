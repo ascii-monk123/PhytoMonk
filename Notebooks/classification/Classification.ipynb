{
  "nbformat": 4,
  "nbformat_minor": 5,
  "metadata": {
    "kernelspec": {
      "display_name": "Python 3",
      "language": "python",
      "name": "python3"
    },
    "language_info": {
      "codemirror_mode": {
        "name": "ipython",
        "version": 3
      },
      "file_extension": ".py",
      "mimetype": "text/x-python",
      "name": "python",
      "nbconvert_exporter": "python",
      "pygments_lexer": "ipython3",
      "version": "3.8.10"
    },
    "colab": {
      "name": "Classification.ipynb",
      "provenance": []
    },
    "accelerator": "GPU"
  },
  "cells": [
    {
      "cell_type": "code",
      "source": [
        "import numpy as np\n",
        "import matplotlib.pyplot as plt\n",
        "import cv2\n",
        "import seaborn as sns\n",
        "import tensorflow as tf\n",
        "from  tensorflow.keras.preprocessing.image import ImageDataGenerator\n",
        "from keras.models import Sequential\n",
        "from keras.layers import Conv2D, MaxPooling2D\n",
        "from keras.layers import Activation, Dropout, Flatten, Dense\n",
        "from sklearn.metrics import confusion_matrix\n",
        "from sklearn.metrics import ConfusionMatrixDisplay, accuracy_score\n",
        "\n"
      ],
      "metadata": {
        "id": "oKzLSIEzyFCg"
      },
      "id": "oKzLSIEzyFCg",
      "execution_count": 62,
      "outputs": []
    },
    {
      "cell_type": "code",
      "source": [
        "#mount drive\n",
        "from google.colab import drive\n",
        "\n",
        "drive.mount('/content/drive')"
      ],
      "metadata": {
        "colab": {
          "base_uri": "https://localhost:8080/"
        },
        "id": "uZ_x4fYdyO3T",
        "outputId": "f81aec85-ba61-498c-b521-f997008fd841"
      },
      "id": "uZ_x4fYdyO3T",
      "execution_count": null,
      "outputs": [
        {
          "output_type": "stream",
          "name": "stdout",
          "text": [
            "Drive already mounted at /content/drive; to attempt to forcibly remount, call drive.mount(\"/content/drive\", force_remount=True).\n"
          ]
        }
      ]
    },
    {
      "cell_type": "markdown",
      "metadata": {
        "id": "welcome-insulation"
      },
      "source": [
        "<h1>Loading image data and augmenting</h1>"
      ],
      "id": "welcome-insulation"
    },
    {
      "cell_type": "code",
      "source": [
        "train_gen = ImageDataGenerator(rescale=1./255,  shear_range=0.2,zoom_range=0.2,horizontal_flip=True).flow_from_directory(\n",
        "                                                    '/content/drive/MyDrive/phytomonk_classification_data/train',\n",
        "                                                     target_size=(256, 256),\n",
        "                                                     batch_size=32,\n",
        "                                                     class_mode='sparse',\n",
        "                                                     seed=123)\n",
        "test_gen = ImageDataGenerator(rescale=1./255,  shear_range=0.2,zoom_range=0.2,horizontal_flip=True).flow_from_directory(\n",
        "                                                    '/content/drive/MyDrive/phytomonk_classification_data/test',\n",
        "                                                     target_size=(256, 256),\n",
        "                                                     batch_size=32,\n",
        "                                                     class_mode='sparse',\n",
        "                                                     seed=123)\n",
        "\n",
        "print(train_gen.class_indices)\n",
        "print(test_gen.class_indices)"
      ],
      "metadata": {
        "colab": {
          "base_uri": "https://localhost:8080/"
        },
        "id": "dXcSBH9v27A7",
        "outputId": "524043c5-be1f-4c23-c926-3c4b2f237787"
      },
      "id": "dXcSBH9v27A7",
      "execution_count": 74,
      "outputs": [
        {
          "output_type": "stream",
          "name": "stdout",
          "text": [
            "Found 5112 images belonging to 3 classes.\n",
            "Found 1143 images belonging to 3 classes.\n",
            "{'healthy': 0, 'mildew': 1, 'rust': 2}\n",
            "{'healthy': 0, 'mildew': 1, 'rust': 2}\n"
          ]
        }
      ]
    },
    {
      "cell_type": "markdown",
      "source": [
        "<h2>Custom CNN Model </h2>"
      ],
      "metadata": {
        "id": "9Z30r4z9AdFG"
      },
      "id": "9Z30r4z9AdFG"
    },
    {
      "cell_type": "code",
      "source": [
        "model = Sequential()\n",
        "#first conv layer\n",
        "model.add(Conv2D(filters = 16, kernel_size = (3, 3), padding = 'valid', input_shape = (256, 256, 3)))\n",
        "model.add(Activation('relu'))\n",
        "#first maxpool layer\n",
        "model.add(MaxPooling2D(pool_size = (2, 2), strides = 2))\n",
        "#second conv layer\n",
        "model.add(Conv2D(filters = 32, kernel_size = (3, 3)))\n",
        "model.add(Activation('relu'))\n",
        "#second maxpool layer\n",
        "model.add(MaxPooling2D(pool_size = (2, 2), strides = 2))\n",
        "#third convolutional layer\n",
        "model.add(Conv2D(filters = 64, kernel_size =(3, 3)))\n",
        "model.add(Activation('relu'))\n",
        "#third maxpool layer\n",
        "model.add(MaxPooling2D(pool_size = (2, 2), strides = 2))\n",
        "#fourth convolutional layer\n",
        "model.add(Conv2D(filters = 128, kernel_size = (3, 3)))\n",
        "model.add(Activation('relu'))\n",
        "#fourth maxpool layer\n",
        "model.add(MaxPooling2D(pool_size = (2, 2), strides = 2))\n",
        "#fifth convolutional\n",
        "model.add(Conv2D(filters = 256, kernel_size = (3, 3)))\n",
        "#fully connected component\n",
        "\n",
        "model.add(Flatten())\n",
        "model.add(Dense(64))\n",
        "model.add(Activation('relu'))\n",
        "model.add(Dropout(0.5))\n",
        "model.add(Dense(3, activation = 'softmax'))\n",
        "\n",
        "model.compile(loss='sparse_categorical_crossentropy',\n",
        "              optimizer='adam',\n",
        "              metrics=['accuracy'])\n",
        "\n"
      ],
      "metadata": {
        "id": "m_qGnH4380zU"
      },
      "id": "m_qGnH4380zU",
      "execution_count": null,
      "outputs": []
    },
    {
      "cell_type": "code",
      "source": [
        "model.summary()"
      ],
      "metadata": {
        "colab": {
          "base_uri": "https://localhost:8080/"
        },
        "id": "3y1ZVELNIDd4",
        "outputId": "757735b4-9061-4b44-ee8c-d546aaf1bb47"
      },
      "id": "3y1ZVELNIDd4",
      "execution_count": null,
      "outputs": [
        {
          "output_type": "stream",
          "name": "stdout",
          "text": [
            "Model: \"sequential\"\n",
            "_________________________________________________________________\n",
            " Layer (type)                Output Shape              Param #   \n",
            "=================================================================\n",
            " conv2d (Conv2D)             (None, 254, 254, 16)      448       \n",
            "                                                                 \n",
            " activation (Activation)     (None, 254, 254, 16)      0         \n",
            "                                                                 \n",
            " max_pooling2d (MaxPooling2D  (None, 127, 127, 16)     0         \n",
            " )                                                               \n",
            "                                                                 \n",
            " conv2d_1 (Conv2D)           (None, 125, 125, 32)      4640      \n",
            "                                                                 \n",
            " activation_1 (Activation)   (None, 125, 125, 32)      0         \n",
            "                                                                 \n",
            " max_pooling2d_1 (MaxPooling  (None, 62, 62, 32)       0         \n",
            " 2D)                                                             \n",
            "                                                                 \n",
            " conv2d_2 (Conv2D)           (None, 60, 60, 64)        18496     \n",
            "                                                                 \n",
            " activation_2 (Activation)   (None, 60, 60, 64)        0         \n",
            "                                                                 \n",
            " max_pooling2d_2 (MaxPooling  (None, 30, 30, 64)       0         \n",
            " 2D)                                                             \n",
            "                                                                 \n",
            " conv2d_3 (Conv2D)           (None, 28, 28, 128)       73856     \n",
            "                                                                 \n",
            " activation_3 (Activation)   (None, 28, 28, 128)       0         \n",
            "                                                                 \n",
            " max_pooling2d_3 (MaxPooling  (None, 14, 14, 128)      0         \n",
            " 2D)                                                             \n",
            "                                                                 \n",
            " conv2d_4 (Conv2D)           (None, 12, 12, 256)       295168    \n",
            "                                                                 \n",
            " flatten (Flatten)           (None, 36864)             0         \n",
            "                                                                 \n",
            " dense (Dense)               (None, 64)                2359360   \n",
            "                                                                 \n",
            " activation_4 (Activation)   (None, 64)                0         \n",
            "                                                                 \n",
            " dropout (Dropout)           (None, 64)                0         \n",
            "                                                                 \n",
            " dense_1 (Dense)             (None, 3)                 195       \n",
            "                                                                 \n",
            "=================================================================\n",
            "Total params: 2,752,163\n",
            "Trainable params: 2,752,163\n",
            "Non-trainable params: 0\n",
            "_________________________________________________________________\n"
          ]
        }
      ]
    },
    {
      "cell_type": "code",
      "source": [
        "history = model.fit_generator(\n",
        "    train_gen, epochs = 50, validation_data = test_gen\n",
        ")\n"
      ],
      "metadata": {
        "colab": {
          "base_uri": "https://localhost:8080/"
        },
        "id": "LDDYkRfhIHLL",
        "outputId": "8eca8f35-70d2-4209-c5f2-662cca84da6c"
      },
      "id": "LDDYkRfhIHLL",
      "execution_count": null,
      "outputs": [
        {
          "output_type": "stream",
          "name": "stderr",
          "text": [
            "/usr/local/lib/python3.7/dist-packages/ipykernel_launcher.py:2: UserWarning: `Model.fit_generator` is deprecated and will be removed in a future version. Please use `Model.fit`, which supports generators.\n",
            "  \n"
          ]
        },
        {
          "output_type": "stream",
          "name": "stdout",
          "text": [
            "Epoch 1/50\n",
            "160/160 [==============================] - 1760s 11s/step - loss: 0.7813 - accuracy: 0.6107 - val_loss: 0.6486 - val_accuracy: 0.7568\n",
            "Epoch 2/50\n",
            "160/160 [==============================] - 114s 716ms/step - loss: 0.6296 - accuracy: 0.7586 - val_loss: 0.6107 - val_accuracy: 0.7620\n",
            "Epoch 3/50\n",
            "160/160 [==============================] - 115s 718ms/step - loss: 0.5221 - accuracy: 0.8104 - val_loss: 0.3576 - val_accuracy: 0.8880\n",
            "Epoch 4/50\n",
            "160/160 [==============================] - 115s 718ms/step - loss: 0.3949 - accuracy: 0.8691 - val_loss: 0.2997 - val_accuracy: 0.8985\n",
            "Epoch 5/50\n",
            "160/160 [==============================] - 115s 717ms/step - loss: 0.3482 - accuracy: 0.8914 - val_loss: 0.7183 - val_accuracy: 0.7060\n",
            "Epoch 6/50\n",
            "160/160 [==============================] - 113s 706ms/step - loss: 0.2339 - accuracy: 0.9169 - val_loss: 0.0638 - val_accuracy: 0.9781\n",
            "Epoch 7/50\n",
            "160/160 [==============================] - 115s 718ms/step - loss: 0.0942 - accuracy: 0.9695 - val_loss: 0.0905 - val_accuracy: 0.9738\n",
            "Epoch 8/50\n",
            "160/160 [==============================] - 113s 707ms/step - loss: 0.1321 - accuracy: 0.9611 - val_loss: 0.0753 - val_accuracy: 0.9729\n",
            "Epoch 9/50\n",
            "160/160 [==============================] - 113s 707ms/step - loss: 0.1094 - accuracy: 0.9734 - val_loss: 0.0523 - val_accuracy: 0.9799\n",
            "Epoch 10/50\n",
            "160/160 [==============================] - 113s 704ms/step - loss: 0.0803 - accuracy: 0.9736 - val_loss: 0.0511 - val_accuracy: 0.9816\n",
            "Epoch 11/50\n",
            "160/160 [==============================] - 114s 712ms/step - loss: 0.0525 - accuracy: 0.9836 - val_loss: 0.0323 - val_accuracy: 0.9921\n",
            "Epoch 12/50\n",
            "160/160 [==============================] - 112s 702ms/step - loss: 0.0831 - accuracy: 0.9722 - val_loss: 0.0431 - val_accuracy: 0.9869\n",
            "Epoch 13/50\n",
            "160/160 [==============================] - 114s 715ms/step - loss: 0.0482 - accuracy: 0.9836 - val_loss: 0.0709 - val_accuracy: 0.9746\n",
            "Epoch 14/50\n",
            "160/160 [==============================] - 114s 713ms/step - loss: 0.0748 - accuracy: 0.9783 - val_loss: 0.0334 - val_accuracy: 0.9930\n",
            "Epoch 15/50\n",
            "160/160 [==============================] - 113s 708ms/step - loss: 0.0480 - accuracy: 0.9855 - val_loss: 0.0588 - val_accuracy: 0.9834\n",
            "Epoch 16/50\n",
            "160/160 [==============================] - 115s 719ms/step - loss: 0.0401 - accuracy: 0.9885 - val_loss: 0.0439 - val_accuracy: 0.9878\n",
            "Epoch 17/50\n",
            "160/160 [==============================] - 113s 709ms/step - loss: 0.0235 - accuracy: 0.9935 - val_loss: 0.0186 - val_accuracy: 0.9956\n",
            "Epoch 18/50\n",
            "160/160 [==============================] - 112s 703ms/step - loss: 0.0727 - accuracy: 0.9834 - val_loss: 0.0576 - val_accuracy: 0.9843\n",
            "Epoch 19/50\n",
            "160/160 [==============================] - 113s 708ms/step - loss: 0.0583 - accuracy: 0.9830 - val_loss: 0.0267 - val_accuracy: 0.9956\n",
            "Epoch 20/50\n",
            "160/160 [==============================] - 112s 701ms/step - loss: 0.0623 - accuracy: 0.9818 - val_loss: 0.0182 - val_accuracy: 0.9965\n",
            "Epoch 21/50\n",
            "160/160 [==============================] - 112s 702ms/step - loss: 0.0205 - accuracy: 0.9939 - val_loss: 0.0251 - val_accuracy: 0.9921\n",
            "Epoch 22/50\n",
            "160/160 [==============================] - 112s 701ms/step - loss: 0.0205 - accuracy: 0.9947 - val_loss: 0.0292 - val_accuracy: 0.9895\n",
            "Epoch 23/50\n",
            "160/160 [==============================] - 112s 702ms/step - loss: 0.0161 - accuracy: 0.9947 - val_loss: 0.0143 - val_accuracy: 0.9965\n",
            "Epoch 24/50\n",
            "160/160 [==============================] - 111s 692ms/step - loss: 0.0773 - accuracy: 0.9799 - val_loss: 0.1393 - val_accuracy: 0.9729\n",
            "Epoch 25/50\n",
            "160/160 [==============================] - 110s 689ms/step - loss: 0.0604 - accuracy: 0.9812 - val_loss: 0.0389 - val_accuracy: 0.9930\n",
            "Epoch 26/50\n",
            "160/160 [==============================] - 111s 692ms/step - loss: 0.0194 - accuracy: 0.9945 - val_loss: 0.0302 - val_accuracy: 0.9921\n",
            "Epoch 27/50\n",
            "160/160 [==============================] - 111s 695ms/step - loss: 0.0157 - accuracy: 0.9947 - val_loss: 0.0347 - val_accuracy: 0.9860\n",
            "Epoch 28/50\n",
            "160/160 [==============================] - 110s 689ms/step - loss: 0.0156 - accuracy: 0.9947 - val_loss: 0.0228 - val_accuracy: 0.9921\n",
            "Epoch 29/50\n",
            "160/160 [==============================] - 110s 688ms/step - loss: 0.0649 - accuracy: 0.9906 - val_loss: 0.0447 - val_accuracy: 0.9904\n",
            "Epoch 30/50\n",
            "160/160 [==============================] - 110s 691ms/step - loss: 0.1021 - accuracy: 0.9746 - val_loss: 0.0257 - val_accuracy: 0.9965\n",
            "Epoch 31/50\n",
            "160/160 [==============================] - 111s 691ms/step - loss: 0.1028 - accuracy: 0.9832 - val_loss: 0.0732 - val_accuracy: 0.9755\n",
            "Epoch 32/50\n",
            "160/160 [==============================] - 110s 690ms/step - loss: 0.0794 - accuracy: 0.9822 - val_loss: 0.0280 - val_accuracy: 0.9948\n",
            "Epoch 33/50\n",
            "160/160 [==============================] - 110s 690ms/step - loss: 0.0361 - accuracy: 0.9908 - val_loss: 0.0188 - val_accuracy: 0.9948\n",
            "Epoch 34/50\n",
            "160/160 [==============================] - 110s 687ms/step - loss: 0.0278 - accuracy: 0.9933 - val_loss: 0.0481 - val_accuracy: 0.9904\n",
            "Epoch 35/50\n",
            "160/160 [==============================] - 110s 687ms/step - loss: 0.0124 - accuracy: 0.9963 - val_loss: 0.0231 - val_accuracy: 0.9965\n",
            "Epoch 36/50\n",
            "160/160 [==============================] - 110s 691ms/step - loss: 0.0240 - accuracy: 0.9933 - val_loss: 0.0199 - val_accuracy: 0.9948\n",
            "Epoch 37/50\n",
            "160/160 [==============================] - 113s 704ms/step - loss: 0.0136 - accuracy: 0.9959 - val_loss: 0.0264 - val_accuracy: 0.9965\n",
            "Epoch 38/50\n",
            "160/160 [==============================] - 115s 722ms/step - loss: 0.0096 - accuracy: 0.9971 - val_loss: 0.0092 - val_accuracy: 0.9974\n",
            "Epoch 39/50\n",
            "160/160 [==============================] - 114s 710ms/step - loss: 0.0194 - accuracy: 0.9937 - val_loss: 0.0208 - val_accuracy: 0.9956\n",
            "Epoch 40/50\n",
            "160/160 [==============================] - 115s 719ms/step - loss: 0.0143 - accuracy: 0.9947 - val_loss: 0.0255 - val_accuracy: 0.9965\n",
            "Epoch 41/50\n",
            "160/160 [==============================] - 114s 713ms/step - loss: 0.0169 - accuracy: 0.9957 - val_loss: 0.0116 - val_accuracy: 0.9965\n",
            "Epoch 42/50\n",
            "160/160 [==============================] - 116s 728ms/step - loss: 0.0139 - accuracy: 0.9953 - val_loss: 0.0127 - val_accuracy: 0.9983\n",
            "Epoch 43/50\n",
            "160/160 [==============================] - 115s 721ms/step - loss: 0.0146 - accuracy: 0.9955 - val_loss: 0.0254 - val_accuracy: 0.9939\n",
            "Epoch 44/50\n",
            "160/160 [==============================] - 114s 712ms/step - loss: 0.0671 - accuracy: 0.9818 - val_loss: 0.0128 - val_accuracy: 0.9939\n",
            "Epoch 45/50\n",
            "160/160 [==============================] - 115s 719ms/step - loss: 0.0350 - accuracy: 0.9894 - val_loss: 0.0567 - val_accuracy: 0.9886\n",
            "Epoch 46/50\n",
            "160/160 [==============================] - 118s 737ms/step - loss: 0.0489 - accuracy: 0.9910 - val_loss: 0.0090 - val_accuracy: 0.9983\n",
            "Epoch 47/50\n",
            "160/160 [==============================] - 116s 724ms/step - loss: 0.0318 - accuracy: 0.9914 - val_loss: 0.1033 - val_accuracy: 0.9694\n",
            "Epoch 48/50\n",
            "160/160 [==============================] - 114s 714ms/step - loss: 0.0277 - accuracy: 0.9932 - val_loss: 0.0121 - val_accuracy: 0.9983\n",
            "Epoch 49/50\n",
            "160/160 [==============================] - 114s 712ms/step - loss: 0.0209 - accuracy: 0.9941 - val_loss: 0.0117 - val_accuracy: 0.9983\n",
            "Epoch 50/50\n",
            "160/160 [==============================] - 114s 714ms/step - loss: 0.0059 - accuracy: 0.9982 - val_loss: 0.0276 - val_accuracy: 0.9956\n"
          ]
        }
      ]
    },
    {
      "cell_type": "code",
      "source": [
        "fig, axes = plt.subplots(1, 2, figsize = (12, 4))\n",
        "\n",
        "sns.lineplot(x = range(len(history.history[\"loss\"])), \n",
        "             y = history.history[\"loss\"], \n",
        "             ax = axes[0], label = \"Training Loss\")\n",
        "\n",
        "sns.lineplot(x = range(len(history.history[\"loss\"])), \n",
        "             y = history.history[\"val_loss\"], \n",
        "             ax = axes[0], label = \"Validation Loss\")\n",
        "\n",
        "sns.lineplot(x = range(len(history.history[\"accuracy\"])), \n",
        "             y = history.history[\"accuracy\"], \n",
        "             ax = axes[1], label = \"Training Accuracy\")\n",
        "\n",
        "sns.lineplot(x = range(len(history.history[\"accuracy\"])), \n",
        "             y = history.history[\"val_accuracy\"], \n",
        "             ax = axes[1], label = \"Validation Accuracy\")\n",
        "\n",
        "axes[0].set_title(\"Loss\")\n",
        "axes[1].set_title(\"Accuracy\")\n",
        "fig.suptitle(\"Adam Optimizer\")\n",
        "\n",
        "plt.tight_layout()\n",
        "\n",
        "sns.despine()\n",
        "plt.show()"
      ],
      "metadata": {
        "colab": {
          "base_uri": "https://localhost:8080/",
          "height": 302
        },
        "id": "h4McSSGnKvql",
        "outputId": "943d87ec-8d6e-4f89-822c-24c8e23f4530"
      },
      "id": "h4McSSGnKvql",
      "execution_count": 71,
      "outputs": [
        {
          "output_type": "display_data",
          "data": {
            "text/plain": [
              "<Figure size 864x288 with 2 Axes>"
            ],
            "image/png": "[encoded data removed]"
          },
          "metadata": {
            "needs_background": "light"
          }
        }
      ]
    },
    {
      "cell_type": "code",
      "source": [
        "model.save_weights('weights')"
      ],
      "metadata": {
        "id": "8gR_euYkp4vB"
      },
      "id": "8gR_euYkp4vB",
      "execution_count": null,
      "outputs": []
    },
    {
      "cell_type": "markdown",
      "source": [
        "<h2> Confusion Matrix</h2>"
      ],
      "metadata": {
        "id": "t-fQwfAquz1G"
      },
      "id": "t-fQwfAquz1G"
    },
    {
      "cell_type": "code",
      "source": [
        "test_gen_new = ImageDataGenerator(rescale = 1./255).flow_from_directory(\n",
        "                                                    '/content/drive/MyDrive/phytomonk_classification_data/test',\n",
        "                                                     target_size=(256, 256),\n",
        "                                                     batch_size=1,\n",
        "                                                     class_mode='sparse',\n",
        "                                                     shuffle = False)"
      ],
      "metadata": {
        "colab": {
          "base_uri": "https://localhost:8080/"
        },
        "id": "1BM69uJQu1Jn",
        "outputId": "8b23fa59-7723-4450-afff-4517e81172b8"
      },
      "id": "1BM69uJQu1Jn",
      "execution_count": 80,
      "outputs": [
        {
          "output_type": "stream",
          "name": "stdout",
          "text": [
            "Found 1143 images belonging to 3 classes.\n"
          ]
        }
      ]
    },
    {
      "cell_type": "code",
      "source": [
        "y_pred = model.predict_generator(test_gen_new)\n",
        "y_pred = np.argmax(y_pred, axis=1)"
      ],
      "metadata": {
        "id": "ZYw6_vLD17Im",
        "colab": {
          "base_uri": "https://localhost:8080/"
        },
        "outputId": "c72961aa-225c-490a-d3e3-a7e07520f96e"
      },
      "id": "ZYw6_vLD17Im",
      "execution_count": 81,
      "outputs": [
        {
          "output_type": "stream",
          "name": "stderr",
          "text": [
            "/usr/local/lib/python3.7/dist-packages/ipykernel_launcher.py:1: UserWarning: `Model.predict_generator` is deprecated and will be removed in a future version. Please use `Model.predict`, which supports generators.\n",
            "  \"\"\"Entry point for launching an IPython kernel.\n"
          ]
        }
      ]
    },
    {
      "cell_type": "code",
      "source": [
        "cm = confusion_matrix(test_gen_new.classes, y_pred)\n",
        "labels = [\"healthy\", \"mildew\", \"rust\"]\n",
        "disp = ConfusionMatrixDisplay(confusion_matrix=cm, display_labels=labels)\n",
        "disp.plot(cmap=plt.cm.Blues)\n",
        "plt.show()"
      ],
      "metadata": {
        "colab": {
          "base_uri": "https://localhost:8080/",
          "height": 279
        },
        "id": "LWvqqLVxvhCs",
        "outputId": "54dd22b4-32fa-43c5-eee8-efaf6059f73b"
      },
      "id": "LWvqqLVxvhCs",
      "execution_count": 82,
      "outputs": [
        {
          "output_type": "display_data",
          "data": {
            "text/plain": [
              "<Figure size 432x288 with 2 Axes>"
            ],
            "image/png": "[encoded data removed]"
          },
          "metadata": {
            "needs_background": "light"
          }
        }
      ]
    },
    {
      "cell_type": "code",
      "source": [
        "accuracy_score(test_gen_new.classes, y_pred)"
      ],
      "metadata": {
        "colab": {
          "base_uri": "https://localhost:8080/"
        },
        "id": "fn8K04Hp3hIL",
        "outputId": "2632570c-6728-44e9-a1f6-10b00fb8a1df"
      },
      "id": "fn8K04Hp3hIL",
      "execution_count": 84,
      "outputs": [
        {
          "output_type": "execute_result",
          "data": {
            "text/plain": [
              "0.994750656167979"
            ]
          },
          "metadata": {},
          "execution_count": 84
        }
      ]
    },
    {
      "cell_type": "code",
      "source": [
        ""
      ],
      "metadata": {
        "id": "q5jDyzQ84J_q"
      },
      "id": "q5jDyzQ84J_q",
      "execution_count": null,
      "outputs": []
    }
  ]
}